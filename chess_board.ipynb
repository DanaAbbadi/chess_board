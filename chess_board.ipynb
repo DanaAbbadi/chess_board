{
 "cells": [
  {
   "cell_type": "code",
   "execution_count": 6,
   "metadata": {},
   "outputs": [],
   "source": [
    "import numpy as np\n",
    "import matplotlib.pyplot as plt"
   ]
  },
  {
   "cell_type": "code",
   "execution_count": 144,
   "metadata": {},
   "outputs": [],
   "source": [
    "class ChessBoard():\n",
    "    white = [1,1,1]\n",
    "    blue = [0,0,1]\n",
    "    red = [1,0,0]\n",
    "    red_queen = [0,0]\n",
    "    blue_queen = [0,0]\n",
    "    \n",
    "    def __init__(self):\n",
    "        \"\"\"\n",
    "        Create the board (grid)\n",
    "        \"\"\"\n",
    "        self.grid = np.zeros([8,8,3])\n",
    "        for i in range(8):\n",
    "            for j in range(8):\n",
    "                if (i%2==0 and j%2==0) or (i%2==1 and j%2==1):\n",
    "                    self.grid[i,j] = ChessBoard.white\n",
    "    \n",
    "    def render(self):\n",
    "        \"\"\"\n",
    "        Display the board (grid)\n",
    "        \"\"\"\n",
    "        plt.imshow(self.grid)\n",
    "        \n",
    "    def add_red(self,red_x,red_y):\n",
    "        \"\"\"\n",
    "        Add a red queen to the board according to the inputs, which are a row and coloumn.\n",
    "        Will also check whether the added queen is under attack or not.\n",
    "\n",
    "        \"\"\"\n",
    "        self.grid[red_x,red_y] = ChessBoard.red\n",
    "        ChessBoard.red_queen = [red_x, red_y]\n",
    "        return self.is_under_attack()\n",
    "        \n",
    "    def add_blue(self, blue_x, blue_y):\n",
    "        \"\"\"\n",
    "        Add a blue queen to the board according to the inputs, which are a row and coloumn.\n",
    "        Will also check whether the added queen is under attack or not.\n",
    "        \"\"\"\n",
    "        self.grid[blue_x, blue_y] = ChessBoard.blue\n",
    "        ChessBoard.blue_queen = [blue_x, blue_y]\n",
    "        return self.is_under_attack()\n",
    "        \n",
    "    def check_if_under_attack(self,red_x, red_y, blue_x, blue_y):\n",
    "        \"\"\"\n",
    "        * Return boolean if red queen is under attack by a blue piece horizontally, vertically or diagonally.\n",
    "        * Accepts the corrdinates of both the red and blue queens as inputs.\n",
    "        \"\"\"\n",
    "        if red_x == blue_x or red_y == blue_y or (abs(red_x-blue_x) == abs(red_y- blue_y)):\n",
    "            return True\n",
    "        else:\n",
    "            return False\n",
    "        \n",
    "    def is_under_attack(self):\n",
    "        \"\"\"\n",
    "        Checks if the queen is under attack or not.\n",
    "        \"\"\"\n",
    "        if (self.check_if_under_attack(ChessBoard.red_queen[0], ChessBoard.red_queen[1], ChessBoard.blue_queen[0], ChessBoard.blue_queen[1])):\n",
    "            return 'Queen under attack'\n",
    "        else:\n",
    "            return 'Queen is safe'\n",
    "\n",
    "          \n",
    "        \n",
    "        "
   ]
  },
  {
   "cell_type": "code",
   "execution_count": 156,
   "metadata": {},
   "outputs": [
    {
     "name": "stdout",
     "output_type": "stream",
     "text": [
      "Queen under attack\n"
     ]
    }
   ],
   "source": [
    "chess = ChessBoard()\n",
    "chess.add_red(2,5)\n",
    "chess.add_blue(1,5)\n",
    "print(chess.is_under_attack())\n",
    "\n"
   ]
  },
  {
   "cell_type": "code",
   "execution_count": 152,
   "metadata": {},
   "outputs": [
    {
     "name": "stdout",
     "output_type": "stream",
     "text": [
      "All tests passed \n"
     ]
    },
    {
     "data": {
      "image/png": "[encoded data removed]",
      "text/plain": [
       "<Figure size 432x288 with 1 Axes>"
      ]
     },
     "metadata": {
      "needs_background": "light"
     },
     "output_type": "display_data"
    }
   ],
   "source": [
    "# Testing\n",
    "chess.render()\n",
    "# under attack on same row\n",
    "assert chess.check_if_under_attack(4,5,4,1) == True\n",
    "# under attack on same coloumn\n",
    "assert chess.check_if_under_attack(5,1,1,1) == True\n",
    "# under attack diagonally\n",
    "assert chess.check_if_under_attack(4,3,7,6) == True\n",
    "# Not under attack \n",
    "assert chess.check_if_under_attack(2,3,1,5) == False\n",
    "print('All tests passed ')"
   ]
  },
  {
   "cell_type": "code",
   "execution_count": null,
   "metadata": {},
   "outputs": [],
   "source": []
  }
 ],
 "metadata": {
  "kernelspec": {
   "display_name": "Python 3",
   "language": "python",
   "name": "python3"
  },
  "language_info": {
   "codemirror_mode": {
    "name": "ipython",
    "version": 3
   },
   "file_extension": ".py",
   "mimetype": "text/x-python",
   "name": "python",
   "nbconvert_exporter": "python",
   "pygments_lexer": "ipython3",
   "version": "3.8.5"
  }
 },
 "nbformat": 4,
 "nbformat_minor": 4
}
